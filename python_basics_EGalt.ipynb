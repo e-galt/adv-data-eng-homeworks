{
 "cells": [
  {
   "cell_type": "markdown",
   "metadata": {},
   "source": [
    "# Advanced data engineering"
   ]
  },
  {
   "cell_type": "markdown",
   "metadata": {},
   "source": [
    "## Домашнее задание к лекции \"Основы Python\""
   ]
  },
  {
   "cell_type": "markdown",
   "metadata": {},
   "source": [
    "## Задание 1"
   ]
  },
  {
   "cell_type": "markdown",
   "metadata": {},
   "source": [
    "Даны 2 переменных, в которых хранятся строки произвольной длины: *phrase_1* и *phrase_2*.\n",
    "Напишите код, который проверяет какая из этих строк длиннее."
   ]
  },
  {
   "cell_type": "code",
   "execution_count": 5,
   "metadata": {},
   "outputs": [],
   "source": [
    "def len_check(phrase_1, phrase_2):\n",
    "    '''Даны 2 переменных, в которых хранятся строки произвольной длины: *phrase_1* и *phrase_2*. \n",
    "    Код проверяет какая из этих строк длиннее.'''\n",
    "    \n",
    "    if len(phrase_1) > len(phrase_2):\n",
    "        print('Фраза 1 длиннее фразы 2')\n",
    "    elif len(phrase_1) < len(phrase_2):\n",
    "        print('Фраза 2 длиннее фразы 1')\n",
    "    else:\n",
    "        print('Фразы равной длины')"
   ]
  },
  {
   "cell_type": "code",
   "execution_count": 6,
   "metadata": {},
   "outputs": [
    {
     "name": "stdout",
     "output_type": "stream",
     "text": [
      "Фраза 1 длиннее фразы 2\n"
     ]
    }
   ],
   "source": [
    "phrase_1 = 'Насколько проще было бы писать программы, если бы не заказчики'\n",
    "phrase_2 = '640Кб должно хватить для любых задач. Билл Гейтс (по легенде)'\n",
    "len_check(phrase_1, phrase_2)"
   ]
  },
  {
   "cell_type": "code",
   "execution_count": 7,
   "metadata": {},
   "outputs": [
    {
     "name": "stdout",
     "output_type": "stream",
     "text": [
      "Фраза 2 длиннее фразы 1\n"
     ]
    }
   ],
   "source": [
    "phrase_1 = '640Кб должно хватить для любых задач. Билл Гейтс (по легенде)'\n",
    "phrase_2 = 'Насколько проще было бы писать программы, если бы не заказчики'\n",
    "len_check(phrase_1, phrase_2)"
   ]
  },
  {
   "cell_type": "code",
   "execution_count": 8,
   "metadata": {},
   "outputs": [
    {
     "name": "stdout",
     "output_type": "stream",
     "text": [
      "Фразы равной длины\n"
     ]
    }
   ],
   "source": [
    "phrase_1 = 'Насколько проще было бы писать программы, если бы не заказчики'\n",
    "phrase_2 = 'Насколько проще было бы писать программы, если бы не заказчики'\n",
    "len_check(phrase_1, phrase_2)"
   ]
  },
  {
   "cell_type": "markdown",
   "metadata": {},
   "source": [
    "## Задание 2"
   ]
  },
  {
   "cell_type": "markdown",
   "metadata": {},
   "source": [
    "Дана переменная, в которой хранится четырехзначное число (год). Необходимо написать программу, которая выведет, является ли данный год високосным или обычным."
   ]
  },
  {
   "cell_type": "code",
   "execution_count": 9,
   "metadata": {},
   "outputs": [],
   "source": [
    "def leap_year_check(year):\n",
    "    '''Дана переменная, в которой хранится четырехзначное число (год). \n",
    "    Программавыведет является ли данный год високосным или обычным.'''\n",
    "    \n",
    "    if (year % 4 == 0 and not year % 100 == 0) or (year % 400 == 0):\n",
    "        print('Високосный год')\n",
    "    else:\n",
    "        print('Обычный год')"
   ]
  },
  {
   "cell_type": "code",
   "execution_count": 10,
   "metadata": {},
   "outputs": [
    {
     "name": "stdout",
     "output_type": "stream",
     "text": [
      "Високосный год\n"
     ]
    }
   ],
   "source": [
    "year = 2020\n",
    "leap_year_check(year)"
   ]
  },
  {
   "cell_type": "code",
   "execution_count": 11,
   "metadata": {},
   "outputs": [
    {
     "name": "stdout",
     "output_type": "stream",
     "text": [
      "Обычный год\n"
     ]
    }
   ],
   "source": [
    "year = 2019\n",
    "leap_year_check(year)"
   ]
  },
  {
   "cell_type": "code",
   "execution_count": 12,
   "metadata": {},
   "outputs": [
    {
     "name": "stdout",
     "output_type": "stream",
     "text": [
      "Високосный год\n"
     ]
    }
   ],
   "source": [
    "year = 2000\n",
    "leap_year_check(year)"
   ]
  },
  {
   "cell_type": "code",
   "execution_count": 13,
   "metadata": {},
   "outputs": [
    {
     "name": "stdout",
     "output_type": "stream",
     "text": [
      "Обычный год\n"
     ]
    }
   ],
   "source": [
    "year = 1900\n",
    "leap_year_check(year)"
   ]
  },
  {
   "cell_type": "markdown",
   "metadata": {},
   "source": [
    "## Задание 3"
   ]
  },
  {
   "cell_type": "markdown",
   "metadata": {},
   "source": [
    "Необходимо написать программу, которая будет запрашивать у пользователя месяц и дату рождения и выводить соответствующий знак зодиака"
   ]
  },
  {
   "cell_type": "code",
   "execution_count": 14,
   "metadata": {},
   "outputs": [],
   "source": [
    "def get_zodiac():\n",
    "    '''Запрашиваeт у пользователя месяц и дату рождения и выводит соответствующий знак зодиака.'''\n",
    "    \n",
    "    day = int(input('Введите день:'))\n",
    "    month = input('Введите месяц:')\n",
    "    \n",
    "    if (month == 'Декабрь' and day >= 22) or (month == 'Январь' and day <= 19):\n",
    "        zodiac = 'Козерог'  \n",
    "        \n",
    "    elif (month == 'Январь' and day >= 20) or (month == 'Февраль' and day <= 18):\n",
    "        zodiac = 'Водолей'\n",
    "        \n",
    "    elif (month == 'Февраль' and day >= 19) or (month == 'Март' and day <= 20):\n",
    "        zodiac = 'Рыбы'\n",
    "\n",
    "    elif (month == 'Март' and day >= 21) or (month == 'Апрель' and day <= 20):\n",
    "        zodiac = 'Овен'\n",
    "        \n",
    "    elif (month == 'Апрель' and day >= 21) or (month == 'Май' and day <= 20):\n",
    "        zodiac = 'Телец'\n",
    "        \n",
    "    elif (month == 'Май' and day >= 21) or (month == 'Июнь' and day <= 20):\n",
    "        zodiac = 'Близнецы'\n",
    "        \n",
    "    elif (month == 'Июнь' and day >= 21) or (month == 'Июль' and day <= 22):\n",
    "        zodiac = 'Рак'\n",
    "        \n",
    "    elif (month == 'Июль' and day >= 23) or (month == 'Август' and day <= 22):\n",
    "        zodiac = 'Лев'\n",
    "        \n",
    "    elif (month == 'Август' and day >= 23) or (month == 'Сентябрь' and day <= 23):\n",
    "        zodiac = 'Дева'\n",
    "        \n",
    "    elif (month == 'Сентябрь' and day >= 24) or (month == 'Октябрь' and day <= 23):\n",
    "        zodiac = 'Весы'\n",
    "        \n",
    "    elif (month == 'Октябрь' and day >= 24) or (month == 'Ноябрь' and day <= 21):\n",
    "        zodiac = 'Скорпион'\n",
    "                                                                \n",
    "    else:\n",
    "        zodiac = 'Стрелец'\n",
    "    \n",
    "    print('Ваш знак зодиака:', zodiac)"
   ]
  },
  {
   "cell_type": "code",
   "execution_count": 15,
   "metadata": {},
   "outputs": [
    {
     "name": "stdout",
     "output_type": "stream",
     "text": [
      "Введите день:30\n",
      "Введите месяц:Август\n",
      "Ваш знак зодиака: Дева\n"
     ]
    }
   ],
   "source": [
    "get_zodiac()"
   ]
  },
  {
   "cell_type": "code",
   "execution_count": 16,
   "metadata": {},
   "outputs": [
    {
     "name": "stdout",
     "output_type": "stream",
     "text": [
      "Введите день:29\n",
      "Введите месяц:Октябрь\n",
      "Ваш знак зодиака: Скорпион\n"
     ]
    }
   ],
   "source": [
    "get_zodiac()"
   ]
  },
  {
   "cell_type": "markdown",
   "metadata": {},
   "source": [
    "## Задание 4"
   ]
  },
  {
   "cell_type": "markdown",
   "metadata": {},
   "source": [
    "Вам нужно написать программу для подбора упаковок по размерам товара. Размеры хранятся в переменных (в сантиметрах): width, length, height. Если каждое из трех измерений менее 15 сантиметров, то выведите на экран “Коробка №1”;\n",
    "если хотя бы одно из измерений больше 15 сантиметров, но менее 50 сантиметров, то выводите “Коробка №2”;\n",
    "если длина товара больше 2 метров, то выводите “Упаковка для лыж”;\n",
    "во всех остальных случаях выводите “Стандартная коробка №3”"
   ]
  },
  {
   "cell_type": "code",
   "execution_count": 17,
   "metadata": {},
   "outputs": [],
   "source": [
    "def get_box(width, length, height):\n",
    "    '''если каждое из трех измерений менее 15 сантиметров, то выведите на экран “Коробка №1”;\n",
    "если хотя бы одно из измерений больше 15 сантиметров, но менее 50 сантиметров, то выводите “Коробка №2”;\n",
    "если длина товара больше 2 метров, то выводите “Упаковка для лыж”;\n",
    "во всех остальных случаях выводите “Стандартная коробка №3”'''\n",
    "    \n",
    "    if width < 15 and length < 15 and height < 15:\n",
    "        print('Коробка №1')\n",
    "        \n",
    "    elif (15 < width < 50) or (15 < length < 50) or (15 < height < 50):\n",
    "        print('Коробка №2')\n",
    "    \n",
    "    elif length > 200:\n",
    "        print('Упаковка для лыж')\n",
    "        \n",
    "    else:\n",
    "        print('Стандартная коробка №3')"
   ]
  },
  {
   "cell_type": "code",
   "execution_count": 18,
   "metadata": {},
   "outputs": [
    {
     "name": "stdout",
     "output_type": "stream",
     "text": [
      "Коробка №1\n"
     ]
    }
   ],
   "source": [
    "get_box(5, 10, 2)"
   ]
  },
  {
   "cell_type": "code",
   "execution_count": 19,
   "metadata": {},
   "outputs": [
    {
     "name": "stdout",
     "output_type": "stream",
     "text": [
      "Коробка №2\n"
     ]
    }
   ],
   "source": [
    "get_box(25, 10, 2)"
   ]
  },
  {
   "cell_type": "code",
   "execution_count": 20,
   "metadata": {},
   "outputs": [
    {
     "name": "stdout",
     "output_type": "stream",
     "text": [
      "Упаковка для лыж\n"
     ]
    }
   ],
   "source": [
    "get_box(5, 210, 2)"
   ]
  },
  {
   "cell_type": "code",
   "execution_count": 21,
   "metadata": {},
   "outputs": [
    {
     "name": "stdout",
     "output_type": "stream",
     "text": [
      "Стандартная коробка №3\n"
     ]
    }
   ],
   "source": [
    "get_box(55, 10, 2)"
   ]
  },
  {
   "cell_type": "markdown",
   "metadata": {},
   "source": [
    "## Задание 5"
   ]
  },
  {
   "cell_type": "markdown",
   "metadata": {},
   "source": [
    "Дана переменная, в которой хранится шестизначное число (номер проездного билета). Напишите программу, которая будет определять, является ли данный билет “счастливым”. Билет считается счастливым, если сумма первых трех цифр совпадает с суммой последних трех цифр номера."
   ]
  },
  {
   "cell_type": "code",
   "execution_count": 22,
   "metadata": {},
   "outputs": [],
   "source": [
    "def lucky_ticket(number):\n",
    "    '''Дана переменная, в которой хранится шестизначное число (номер проездного билета). \n",
    "    Программа определяет является ли данный билет “счастливым”. \n",
    "    Билет считается счастливым, если сумма первых трех цифр совпадает с суммой последних трех цифр номера.'''\n",
    "    \n",
    "    # find all digits\n",
    "    n_6 = number % 10\n",
    "    n_5 = (number // 10) % 10\n",
    "    n_4 = (number // 100) % 10\n",
    "    n_3 = (number // 1000) % 10\n",
    "    n_2 = (number // 10000) % 10\n",
    "    n_1 = number // 100000\n",
    "    \n",
    "    if (n_1 + n_2 +n_3) == (n_4 + n_5 + n_6):\n",
    "        print('Результат: \\n Счастливый билет')\n",
    "        \n",
    "    else:    \n",
    "        print('Результат: \\n Несчастливый билет')"
   ]
  },
  {
   "cell_type": "code",
   "execution_count": 23,
   "metadata": {},
   "outputs": [
    {
     "name": "stdout",
     "output_type": "stream",
     "text": [
      "Результат: \n",
      " Несчастливый билет\n"
     ]
    }
   ],
   "source": [
    "lucky_ticket(123456)"
   ]
  },
  {
   "cell_type": "code",
   "execution_count": 24,
   "metadata": {},
   "outputs": [
    {
     "name": "stdout",
     "output_type": "stream",
     "text": [
      "Результат: \n",
      " Счастливый билет\n"
     ]
    }
   ],
   "source": [
    "lucky_ticket(123321)"
   ]
  },
  {
   "cell_type": "code",
   "execution_count": null,
   "metadata": {},
   "outputs": [],
   "source": []
  }
 ],
 "metadata": {
  "kernelspec": {
   "display_name": "Python 3",
   "language": "python",
   "name": "python3"
  },
  "language_info": {
   "codemirror_mode": {
    "name": "ipython",
    "version": 3
   },
   "file_extension": ".py",
   "mimetype": "text/x-python",
   "name": "python",
   "nbconvert_exporter": "python",
   "pygments_lexer": "ipython3",
   "version": "3.8.3"
  }
 },
 "nbformat": 4,
 "nbformat_minor": 4
}
